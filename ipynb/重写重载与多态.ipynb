{
 "cells": [
  {
   "cell_type": "markdown",
   "metadata": {},
   "source": [
    "## 重写、重载与多态"
   ]
  },
  {
   "cell_type": "markdown",
   "metadata": {},
   "source": [
    "在面向对象程序设计中，一个对象的可以拥有多个名称相同但签名不同的方法。这种设计方式称为方法的重载，其中方法的签名由参数个数和参数类型所决定。当使用继承方式由父类派生子类时，有可能会对父类中已经定义的方法进行重新实现，当子类对象调用方法时，子类中实现的版本将覆盖父类的版本。因此，方法的重载实现了同一名称方法的不同形式，方法重载则是在子类中覆盖了父类的方法。\n",
    "\n",
    "那何为多态呢？多态允许同一程序指令在不同的上下文中具有不同的功能。具体来说，对于直接或间接重写的方法名，对象在运行时确定将使用方法的哪个动作。因此，多态的基础就是类继承中的方法重写。将多态单独列出来主要是在重写与重载对比的基础之上，进一步分析多态下的细节。"
   ]
  },
  {
   "cell_type": "markdown",
   "metadata": {},
   "source": [
    "我们使用一个学生类用作后续分析，`Student`类包括姓名和学号两个字段，该类的scala版本定义如下："
   ]
  },
  {
   "cell_type": "code",
   "execution_count": 35,
   "metadata": {},
   "outputs": [
    {
     "data": {
      "text/plain": [
       "defined \u001b[32mclass\u001b[39m \u001b[36mStudent\u001b[39m"
      ]
     },
     "execution_count": 35,
     "metadata": {},
     "output_type": "execute_result"
    }
   ],
   "source": [
    "class Student (val schoolName: String, val name: String, val id: Long){\n",
    "    override def toString: String = \n",
    "        \"学校： \" + schoolName + \"\\n学号： \" + id + \"\\n姓名： \" + name\n",
    "}"
   ]
  },
  {
   "cell_type": "markdown",
   "metadata": {},
   "source": [
    "### 1. 方法重写"
   ]
  },
  {
   "cell_type": "markdown",
   "metadata": {},
   "source": [
    "在`Student`类定义中，我们重写了`toString`方法。注意当在类定义中不指明父类时，scala默认继承于`AnyRef`这一引用类型的基类。由于`AnyRef`类中已经定义了不带参数的`toString`方法，因此此处我们使用`override` 关键字表示我们重写了父类中的`toString`方法。当我们打印student对象时，`println`方法会输出该对象`toString`返回的字符串。可以看出，此时子类的方法覆盖了父类中的同名方法。"
   ]
  },
  {
   "cell_type": "code",
   "execution_count": 36,
   "metadata": {},
   "outputs": [
    {
     "name": "stdout",
     "output_type": "stream",
     "text": [
      "学校： 黄山小学\n",
      "学号： 16120973\n",
      "姓名： 李华\n"
     ]
    },
    {
     "data": {
      "text/plain": [
       "\u001b[36mstudent\u001b[39m: \u001b[32mStudent\u001b[39m = 学校： 黄山小学\n",
       "学号： 16120973\n",
       "姓名： 李华"
      ]
     },
     "execution_count": 36,
     "metadata": {},
     "output_type": "execute_result"
    }
   ],
   "source": [
    "val student = new Student(\"黄山小学\", \"李华\", 16120973)\n",
    "println(student)"
   ]
  },
  {
   "cell_type": "markdown",
   "metadata": {},
   "source": [
    "### 2. 方法重载"
   ]
  },
  {
   "cell_type": "markdown",
   "metadata": {},
   "source": [
    "方法的重写是类继承关系下的产物，而方法的重载则既可以存在与子类与父类之间，也可以仅针对一个类而言。面向对象程序设计中最常见的一种重载是构造方法的重载。假定我们需要提供一个实例化对象的便捷方法，当不提供学校名称时，学校名称字段使用黄山小学。我们可以对默认构造方法进行重载来提供一个便捷方法。"
   ]
  },
  {
   "cell_type": "code",
   "execution_count": 41,
   "metadata": {},
   "outputs": [
    {
     "name": "stdout",
     "output_type": "stream",
     "text": [
      "学校： 黄山小学\n",
      "学号： 18129834\n",
      "姓名： 刘远\n",
      "\n",
      "学校： 马场小学\n",
      "学号： 17239842\n",
      "姓名： 张岚\n"
     ]
    },
    {
     "data": {
      "text/plain": [
       "defined \u001b[32mclass\u001b[39m \u001b[36mStudent\u001b[39m\n",
       "\u001b[36mstudent1\u001b[39m: \u001b[32mStudent\u001b[39m = 学校： 黄山小学\n",
       "学号： 18129834\n",
       "姓名： 刘远\n",
       "\u001b[36mstudent2\u001b[39m: \u001b[32mStudent\u001b[39m = 学校： 马场小学\n",
       "学号： 17239842\n",
       "姓名： 张岚"
      ]
     },
     "execution_count": 41,
     "metadata": {},
     "output_type": "execute_result"
    }
   ],
   "source": [
    "class Student (val schoolName: String, val name: String, val id: Long){\n",
    "    def this(name: String, id: Long) = this(\"黄山小学\" , name, id)\n",
    "    \n",
    "    override def toString: String = \n",
    "        \"学校： \" + schoolName + \"\\n学号： \" + id + \"\\n姓名： \" + name\n",
    "}\n",
    "\n",
    "val student1 = new Student(\"刘远\", 18129834)\n",
    "val student2 = new Student(\"马场小学\", \"张岚\", 17239842)\n",
    "println(student1)\n",
    "println()\n",
    "println(student2)"
   ]
  },
  {
   "cell_type": "markdown",
   "metadata": {},
   "source": [
    "`def this(name: String, id: Long) = this(\"黄山小学\" , name, id)`语句重载了一个辅助构造方法，该方法接受两个参数，由于与主构造方法具有不同的方法签名，因此是对主构造方法的重载。在上例中，我们分别使用辅助构造方法和主构造方法实例化了一个对象，由于具有不同的方法签名，因此两个方法的调用不会引发冲突。"
   ]
  },
  {
   "cell_type": "markdown",
   "metadata": {},
   "source": [
    "### 3. 多态"
   ]
  },
  {
   "cell_type": "markdown",
   "metadata": {},
   "source": [
    "接下来讨论多态，前面提到，多态实际上是对方法重写的更为技术的一种叫法。为便于讨论，我们从`Student`类派生子类`CollegeStudent`，从`CollegeStudent`类派生`GraduateStudent`，继承逻辑为大学生属于学生，而硕士生则是大学生的一种。此外，我们为基类添加`display`方法打印学生信息。"
   ]
  },
  {
   "cell_type": "code",
   "execution_count": 49,
   "metadata": {},
   "outputs": [
    {
     "data": {
      "text/plain": [
       "\u001b[32mimport \u001b[39m\u001b[36mjava.util.Calendar\n",
       "\n",
       "\u001b[39m\n",
       "defined \u001b[32mclass\u001b[39m \u001b[36mStudent\u001b[39m"
      ]
     },
     "execution_count": 49,
     "metadata": {},
     "output_type": "execute_result"
    }
   ],
   "source": [
    "import java.util.Calendar\n",
    "\n",
    "class Student (val schoolName: String, val name: String, val id: Long){\n",
    "    override def toString: String = \n",
    "        \"学校： \" + schoolName + \"\\n学号： \" + id + \"\\n姓名： \" + name\n",
    "    \n",
    "    def display(): Unit = {\n",
    "        println(Calendar.getInstance.getTime())\n",
    "        println(toString)\n",
    "    }\n",
    "}"
   ]
  },
  {
   "cell_type": "code",
   "execution_count": 60,
   "metadata": {},
   "outputs": [
    {
     "data": {
      "text/plain": [
       "defined \u001b[32mclass\u001b[39m \u001b[36mCollegeStudent\u001b[39m\n",
       "defined \u001b[32mclass\u001b[39m \u001b[36mGraduateStudent\u001b[39m"
      ]
     },
     "execution_count": 60,
     "metadata": {},
     "output_type": "execute_result"
    }
   ],
   "source": [
    "class CollegeStudent(schoolName:String, name: String, id: Long, val major: String)\n",
    "    extends Student(schoolName, name, id) {\n",
    "        \n",
    "    override def toString: String = \n",
    "        \"学生类别： 大学生\\n\" + \"学校： \" + schoolName + \"\\n学号： \" + id + \"\\n姓名： \" + name + \"\\n专业：\" + major\n",
    "}\n",
    "\n",
    "class GraduateStudent(schoolName:String, name: String, id: Long, major: String, val supervisor: String) \n",
    "    extends CollegeStudent (schoolName, name, id, major) {\n",
    "    override def toString: String = \n",
    "        (\"学生类别： 大学生\\n\" + \"学校： \" + schoolName + \"\\n学号： \" + id + \"\\n姓名： \" + name + \n",
    "         \"\\n专业：\" + major + \"\\n导师： \"+ supervisor)\n",
    "        \n",
    "    def getSupervisor(): String = supervisor\n",
    "}"
   ]
  },
  {
   "cell_type": "markdown",
   "metadata": {},
   "source": [
    "CollegeStudent类继承自Student类，并且重写了Student类的`toString`方法，GraduateStudent类继承自CollegeStudent类，它同样重写了CollegeStudent的`toString`方法，并且添加了一个获取导师信息的`getSupervisor`方法。我们定义如下两个学生对象。"
   ]
  },
  {
   "cell_type": "code",
   "execution_count": 64,
   "metadata": {},
   "outputs": [
    {
     "data": {
      "text/plain": [
       "\u001b[36mcollegeStudent\u001b[39m: \u001b[32mCollegeStudent\u001b[39m = 学生类别： 大学生\n",
       "学校： 清华大学\n",
       "学号： 16890823\n",
       "姓名： 李磊\n",
       "专业：工业工程\n",
       "\u001b[36mgraduateStudent\u001b[39m: \u001b[32mGraduateStudent\u001b[39m = 学生类别： 大学生\n",
       "学校： 北京大学\n",
       "学号： 18294223\n",
       "姓名： 李飞\n",
       "专业：工商管理\n",
       "导师： 雷奋"
      ]
     },
     "execution_count": 64,
     "metadata": {},
     "output_type": "execute_result"
    }
   ],
   "source": [
    "val collegeStudent = new CollegeStudent(\"清华大学\", \"李磊\", 16890823, \"工业工程\")\n",
    "val graduateStudent = new GraduateStudent(\"北京大学\", \"李飞\", 18294223, \"工商管理\", \"雷奋\")"
   ]
  },
  {
   "cell_type": "markdown",
   "metadata": {},
   "source": [
    "我们知道，可以将一个子类的实例赋值给一个定义为父类类型的变量，如`val student: Student = collegeStudent`将一个CollegeStudent类型的对象复制给一个Student类型的变量。"
   ]
  },
  {
   "cell_type": "markdown",
   "metadata": {},
   "source": [
    "此时，如果我们调用`student.display`方法，则`display`方法会调用对象的`toString`方法，问题时，此时会调用谁的`toString`方法呢？是Student类中的还是在CollegeStudent类中的呢？"
   ]
  },
  {
   "cell_type": "markdown",
   "metadata": {},
   "source": [
    "这里，我们需要首先介绍一下**静态类型（static type)** 与 **动态类型(dynamic type)** 的区别。变量的静态类型是出现在声明中的类型。因此student变量的静态类型是Student。静态类型是在代码编译使固定确定下来的。运行时某一时刻变量指向的类型称为动态类型，变量的动态类型随运行进程改变。执行`val student: Student = collegeStudent`语句时，student动态类型为CollegeStudent，当执行`val student: Student = graduateStudent`时，其动态类型为GraduateStudent。"
   ]
  },
  {
   "cell_type": "markdown",
   "metadata": {},
   "source": [
    "当执行对象的某一方法时，该方法的动作由创建对象的构造方法所属的类来定义，也就是说，将调用其动态类型中所定义的方法。我们来通过代码讲解。"
   ]
  },
  {
   "cell_type": "code",
   "execution_count": 66,
   "metadata": {},
   "outputs": [
    {
     "name": "stdout",
     "output_type": "stream",
     "text": [
      "Wed Mar 27 20:40:51 CST 2019\n",
      "学生类别： 大学生\n",
      "学校： 清华大学\n",
      "学号： 16890823\n",
      "姓名： 李磊\n",
      "专业：工业工程\n"
     ]
    },
    {
     "data": {
      "text/plain": [
       "\u001b[36mstudent\u001b[39m: \u001b[32mStudent\u001b[39m = 学生类别： 大学生\n",
       "学校： 清华大学\n",
       "学号： 16890823\n",
       "姓名： 李磊\n",
       "专业：工业工程"
      ]
     },
     "execution_count": 66,
     "metadata": {},
     "output_type": "execute_result"
    }
   ],
   "source": [
    "var student: Student = collegeStudent\n",
    "student.display()"
   ]
  },
  {
   "cell_type": "code",
   "execution_count": 67,
   "metadata": {},
   "outputs": [
    {
     "name": "stdout",
     "output_type": "stream",
     "text": [
      "Wed Mar 27 20:40:55 CST 2019\n",
      "学生类别： 大学生\n",
      "学校： 北京大学\n",
      "学号： 18294223\n",
      "姓名： 李飞\n",
      "专业：工商管理\n",
      "导师： 雷奋\n"
     ]
    }
   ],
   "source": [
    "student = graduateStudent\n",
    "student.display()"
   ]
  },
  {
   "cell_type": "markdown",
   "metadata": {},
   "source": [
    "不难发现，第一次student对象调用display方法时，其嵌套调用的`toString`方法时CollegeStudent类中重写的方法，而第二次调用`display`方法时，则调用的时其动态类型所属类GraduateStudent类中重写的`toString`方法。"
   ]
  },
  {
   "cell_type": "markdown",
   "metadata": {},
   "source": [
    "此时，student变量调用`display`方法根据其动态类型的不同而执行不同的行为，这便是方法重写下的多态行为。"
   ]
  },
  {
   "cell_type": "markdown",
   "metadata": {},
   "source": [
    "多态讲到这里基本就完了，但还有一个知识点。当我们将一个GraduateStudent类型的对象赋值给一个Student类型的变量时，该变量能够调用对象的所有公开方法吗？"
   ]
  },
  {
   "cell_type": "code",
   "execution_count": 67,
   "metadata": {},
   "outputs": [
    {
     "name": "stderr",
     "output_type": "stream",
     "text": [
      "cmd67.sc:1: value getSupervisor is not a member of ammonite.$sess.cmd65.wrapper.cmd48.Student\n",
      "val res67 = student.getSupervisor()\n",
      "                    ^Compilation Failed"
     ]
    },
    {
     "ename": "",
     "evalue": "",
     "output_type": "error",
     "traceback": [
      "Compilation Failed"
     ]
    }
   ],
   "source": [
    "student.getSupervisor()"
   ]
  },
  {
   "cell_type": "markdown",
   "metadata": {},
   "source": [
    "尝试调用对象的getSupervisor返回导师姓名时提示编译失败，该方法不是Student类的成员。事实上，此时仅能访问变量静态类型所支持的公开方法。总结起来，变量静态类型均定其能够使用哪些方法，而其动态类型则决定使用方法的哪一个定义。"
   ]
  }
 ],
 "metadata": {
  "kernelspec": {
   "display_name": "Scala",
   "language": "scala",
   "name": "scala"
  },
  "language_info": {
   "codemirror_mode": "text/x-scala",
   "file_extension": ".scala",
   "mimetype": "text/x-scala",
   "name": "scala",
   "nbconvert_exporter": "script",
   "version": "2.12.8"
  }
 },
 "nbformat": 4,
 "nbformat_minor": 2
}

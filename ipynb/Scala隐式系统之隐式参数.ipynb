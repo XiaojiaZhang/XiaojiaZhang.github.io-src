{
 "cells": [
  {
   "cell_type": "markdown",
   "metadata": {},
   "source": [
    "scala隐式系统包括隐式转换和隐式参数两大部分，本文我们先来聊聊隐式参数。\n",
    "\n",
    "隐式参数用法：编译器会使用隐式参数提供整个最后一组柯里化的参数列表。例如当最后一组柯里化参数被定义为隐式参数树，隐式参数可能会`someCall(a)`替换为`someCall(a)(b)`,或者将`new Some(a)`替换为`new Some(a)(b)`以及将`some(a)`替换为`some(a)(b, c, d)`，当时也可以显示提供隐式参数列表所需要的参数。乍看上去，隐式参数似乎与默认参数有点类似，这也是我自己在一开始学习隐式参数时所疑惑的地方，接下来我们一起对隐式参数一探究竟。"
   ]
  },
  {
   "cell_type": "markdown",
   "metadata": {},
   "source": [
    "### 1. 隐式参数 VS 默认参数\n",
    "\n",
    "隐式参数与默认参数类似的一点是都位于参数列表的最后，但默认参数并不需要将函数参数柯里化。看如下例子："
   ]
  },
  {
   "cell_type": "code",
   "execution_count": 3,
   "metadata": {},
   "outputs": [
    {
     "data": {
      "text/plain": [
       "defined \u001b[32mfunction\u001b[39m \u001b[36mdefaultParam\u001b[39m\n",
       "\u001b[36mres2_1\u001b[39m: \u001b[32mString\u001b[39m = \u001b[32m\"Hello world\"\u001b[39m"
      ]
     },
     "execution_count": 3,
     "metadata": {},
     "output_type": "execute_result"
    }
   ],
   "source": [
    "def defaultParam(first: String, second: String=\"world\"): String = first + second\n",
    "\n",
    "defaultParam(\"Hello \")"
   ]
  },
  {
   "cell_type": "code",
   "execution_count": 8,
   "metadata": {},
   "outputs": [
    {
     "data": {
      "text/plain": [
       "defined \u001b[32mfunction\u001b[39m \u001b[36mimplicitParam\u001b[39m\n",
       "\u001b[36msecond\u001b[39m: \u001b[32mString\u001b[39m = \u001b[32m\"World\"\u001b[39m\n",
       "\u001b[36mres7_2\u001b[39m: \u001b[32mString\u001b[39m = \u001b[32m\"HelloWorld\"\u001b[39m"
      ]
     },
     "execution_count": 8,
     "metadata": {},
     "output_type": "execute_result"
    }
   ],
   "source": [
    "def implicitParam(first: String)(implicit second: String): String = first + second\n",
    "implicit val second = \"World\"\n",
    "implicitParam(\"Hello\")"
   ]
  },
  {
   "cell_type": "markdown",
   "metadata": {},
   "source": [
    "以上是对默认参数与隐式参数的一个简单比较，默认参数通过在参数列表中提供默认值实现，隐式参数则在参数列表中使用关键字`implicit`定义，当调用函数隐式参数的函数时，编译器会在当前作用域内查找可用的同类型隐式值，使用该隐式值填充隐式参数列表。\n",
    "\n",
    "由于默认参数需要在参数列表中制定，默认参数只能是某一种给定的类型，默认参数也只能提供一个默认值。不同于默认参数，隐式参数可以为泛型参数，基于泛型的隐式参数可以有多个隐式值，这也是隐式参数相对于默认参数最显著的差异。因此，隐式参数对与泛型函数尤其有用。接下来我们来看一个使用隐式参数的实际案例。"
   ]
  },
  {
   "cell_type": "markdown",
   "metadata": {},
   "source": [
    "### 2. 在泛型函数中使用隐式参数"
   ]
  },
  {
   "cell_type": "markdown",
   "metadata": {},
   "source": [
    "我们准备定义一个用于寻找列表最大值的方法，该方法接收两个参数，一为目标列表，二为用于比较列表元素大小的方法，此处将该参数定义为`Ordering`特质。对于基本类型的列表，例如整型列表、字符串列表等，scala标准库提供了隐式的排序方法，如`Ordering[Int]`、`Ordering[String]`，因此我们想使用隐式参数来简化函数调用，这样在查找基本类型列表最大值时，我们可以不必显示给定比较大小的特质。我们的函数定义如下："
   ]
  },
  {
   "cell_type": "code",
   "execution_count": 1,
   "metadata": {},
   "outputs": [
    {
     "data": {
      "text/plain": [
       "defined \u001b[32mfunction\u001b[39m \u001b[36mmaxListImpParm\u001b[39m"
      ]
     },
     "execution_count": 1,
     "metadata": {},
     "output_type": "execute_result"
    }
   ],
   "source": [
    "def maxListImpParm[T](elements: List[T])(implicit ordering: Ordering[T]): T = elements match {\n",
    "    case List() => throw new IllegalArgumentException(\"empty List\")\n",
    "    case List(x) => x\n",
    "    case x::rest =>\n",
    "        val maxRest = maxListImpParm(rest)(ordering)\n",
    "        if (ordering.gt(x, maxRest)) x\n",
    "        else maxRest\n",
    "}"
   ]
  },
  {
   "cell_type": "code",
   "execution_count": 2,
   "metadata": {},
   "outputs": [
    {
     "data": {
      "text/plain": [
       "\u001b[36mres1_0\u001b[39m: \u001b[32mInt\u001b[39m = \u001b[32m7\u001b[39m\n",
       "\u001b[36mres1_1\u001b[39m: \u001b[32mString\u001b[39m = \u001b[32m\"Selina\"\u001b[39m"
      ]
     },
     "execution_count": 2,
     "metadata": {},
     "output_type": "execute_result"
    }
   ],
   "source": [
    "maxListImpParm(List(3, 5, 7, 2))\n",
    "maxListImpParm(List(\"Bob\", \"Ana\", \"Selina\"))"
   ]
  },
  {
   "cell_type": "markdown",
   "metadata": {},
   "source": [
    "由于scala提供了隐式的`Ordering[Int]`以及`Ordering[String]`,因此上述代码语句可以执行成功。"
   ]
  },
  {
   "cell_type": "code",
   "execution_count": 2,
   "metadata": {},
   "outputs": [
    {
     "data": {
      "text/plain": [
       "defined \u001b[32mclass\u001b[39m \u001b[36mScore\u001b[39m\n",
       "defined \u001b[32mobject\u001b[39m \u001b[36mScoreComp\u001b[39m\n",
       "\u001b[36mres1_2\u001b[39m: \u001b[32mScore\u001b[39m = \u001b[33mScore\u001b[39m(\u001b[32m89.3\u001b[39m)"
      ]
     },
     "execution_count": 2,
     "metadata": {},
     "output_type": "execute_result"
    }
   ],
   "source": [
    "case class Score(value: Double)\n",
    "\n",
    "implicit object ScoreComp extends Ordering[Score] {\n",
    "    import math.ceil\n",
    "    def compare(x: Score, y: Score): Int = ceil(x.value - y.value).toInt\n",
    "}\n",
    "\n",
    "maxListImpParm(List(Score(67), Score(89.3), Score(55)))"
   ]
  },
  {
   "cell_type": "markdown",
   "metadata": {},
   "source": [
    "对于自定义类型，也可以通过引入隐式的`Ordering[Score]`特质实现最大值的查找。"
   ]
  },
  {
   "cell_type": "markdown",
   "metadata": {},
   "source": [
    " ### 3. 基于隐式参数的上下文界定"
   ]
  },
  {
   "cell_type": "markdown",
   "metadata": {},
   "source": [
    "在上面查找列表最大值的例子中，在递归调用函数也可以省略掉隐式参数。因此，代码可以简化为如下："
   ]
  },
  {
   "cell_type": "code",
   "execution_count": 7,
   "metadata": {},
   "outputs": [
    {
     "data": {
      "text/plain": [
       "defined \u001b[32mfunction\u001b[39m \u001b[36mmaxListImpParm\u001b[39m"
      ]
     },
     "execution_count": 7,
     "metadata": {},
     "output_type": "execute_result"
    }
   ],
   "source": [
    "def maxListImpParm[T](elements: List[T])(implicit ordering: Ordering[T]): T = elements match {\n",
    "    case List() => throw new IllegalArgumentException(\"empty List\")\n",
    "    case List(x) => x\n",
    "    case x::rest =>\n",
    "        val maxRest = maxListImpParm(rest)\n",
    "        if (ordering.gt(x, maxRest)) x\n",
    "        else maxRest\n",
    "}"
   ]
  },
  {
   "cell_type": "markdown",
   "metadata": {},
   "source": [
    "我们将递归调用`maxListImpParm(rest)(ordering)`改成了`maxListParm(rest)`，此时缺失的参数`ordering`将通过同样的隐式参数查找规则查找。\n",
    "\n",
    "还有一种方法可以去掉对ordering的第二处调用`ordering.gt(x, maxReset)`，这涉及到标准库中定义的如下方法："
   ]
  },
  {
   "cell_type": "code",
   "execution_count": 8,
   "metadata": {},
   "outputs": [
    {
     "data": {
      "text/plain": [
       "defined \u001b[32mfunction\u001b[39m \u001b[36mimplicitly\u001b[39m"
      ]
     },
     "execution_count": 8,
     "metadata": {},
     "output_type": "execute_result"
    }
   ],
   "source": [
    "def implicitly[T](implicit t: T) = t"
   ]
  },
  {
   "cell_type": "markdown",
   "metadata": {},
   "source": [
    "`implicitly`泛型函数中唯一的参数被设置为隐式参数，因此可以直接通过`implicitly[T]`的形式进行调用，此时编译器会查找是否存在隐式的类型为T的变量，如果存在，则返回该变量。因此，`maxListImpParm`可进一步写为如下形式："
   ]
  },
  {
   "cell_type": "code",
   "execution_count": 9,
   "metadata": {},
   "outputs": [
    {
     "data": {
      "text/plain": [
       "defined \u001b[32mfunction\u001b[39m \u001b[36mmaxListImpParm\u001b[39m"
      ]
     },
     "execution_count": 9,
     "metadata": {},
     "output_type": "execute_result"
    }
   ],
   "source": [
    "def maxListImpParm[T](elements: List[T])(implicit ordering: Ordering[T]): T = elements match {\n",
    "    case List() => throw new IllegalArgumentException(\"empty List\")\n",
    "    case List(x) => x\n",
    "    case x::rest =>\n",
    "        val maxRest = maxListImpParm(rest)\n",
    "        if (implicitly[Ordering[T]].gt(x, maxRest)) x\n",
    "        else maxRest\n",
    "}"
   ]
  },
  {
   "cell_type": "markdown",
   "metadata": {},
   "source": [
    "我们使用`implicitly[Ordering[T]]`代替了`ordering`参数名称，此时方法体中不涉及隐式参数的参数名称。由于这个模式经常出现，scala提供了上下文界定来让我们进一步简化函数签名，`maxListImpParm`可写为如下形式："
   ]
  },
  {
   "cell_type": "code",
   "execution_count": 3,
   "metadata": {},
   "outputs": [
    {
     "data": {
      "text/plain": [
       "defined \u001b[32mfunction\u001b[39m \u001b[36mmaxListImpParm\u001b[39m\n",
       "\u001b[36mres2_1\u001b[39m: \u001b[32mScore\u001b[39m = \u001b[33mScore\u001b[39m(\u001b[32m89.3\u001b[39m)"
      ]
     },
     "execution_count": 3,
     "metadata": {},
     "output_type": "execute_result"
    }
   ],
   "source": [
    "def maxListImpParm[T: Ordering](elements: List[T]): T = elements match {\n",
    "    case List() => throw new IllegalArgumentException(\"empty List\")\n",
    "    case List(x) => x\n",
    "    case x::rest =>\n",
    "        val maxRest = maxListImpParm(rest)\n",
    "        if (implicitly[Ordering[T]].gt(x, maxRest)) x\n",
    "        else maxRest\n",
    "}\n",
    "\n",
    "maxListImpParm(List(Score(67), Score(89.3), Score(55)))"
   ]
  },
  {
   "cell_type": "markdown",
   "metadata": {},
   "source": [
    "上下文界定是一种检点的方法，编译器会将其翻译为对等的包含有一个隐式参数的方法签名，即：\n",
    "`def maxListImpParm[T: Ordering](elements: List[T]): T`等价于`def maxListImpParm[T](elements: List[T])(implicit AnyName: Ordering[T])`。"
   ]
  },
  {
   "cell_type": "markdown",
   "metadata": {},
   "source": [
    "由于隐式参数的名称不会出现在方法体中，因此我们可以使用上下文界定简化方法签名。同样，当使用上下文界定时，如果需要获取隐式参数，我们需要使用`implicitly[T]`获取类型为T的隐式参数。"
   ]
  }
 ],
 "metadata": {
  "kernelspec": {
   "display_name": "Scala",
   "language": "scala",
   "name": "scala"
  },
  "language_info": {
   "codemirror_mode": "text/x-scala",
   "file_extension": ".scala",
   "mimetype": "text/x-scala",
   "name": "scala",
   "nbconvert_exporter": "script",
   "version": "2.12.8"
  }
 },
 "nbformat": 4,
 "nbformat_minor": 2
}

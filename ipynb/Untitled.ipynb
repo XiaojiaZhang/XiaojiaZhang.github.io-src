{
 "cells": [
  {
   "cell_type": "code",
   "execution_count": 6,
   "metadata": {},
   "outputs": [],
   "source": [
    "from math import sqrt\n",
    "def distance(x1, x2=(0, 0), dtypes=\"euclidean\"):\n",
    "    if dtypes == \"euclidean\":\n",
    "        return sqrt((x1[0]-x2[0])**2 + (x1[1]-x2[1])**2)\n",
    "    elif dtypes == \"manhattan\":\n",
    "        return abs(x1[0]-x2[0]) + abs(x1[1]-x2[1])\n",
    "    else:\n",
    "        raise Exception(\"doesn't support the current dtypes:\"+dtypes)"
   ]
  },
  {
   "cell_type": "code",
   "execution_count": null,
   "metadata": {},
   "outputs": [],
   "source": []
  },
  {
   "cell_type": "code",
   "execution_count": null,
   "metadata": {},
   "outputs": [],
   "source": []
  }
 ],
 "metadata": {
  "kernelspec": {
   "display_name": "Python 3",
   "language": "python",
   "name": "python3"
  },
  "language_info": {
   "codemirror_mode": {
    "name": "ipython",
    "version": 3
   },
   "file_extension": ".py",
   "mimetype": "text/x-python",
   "name": "python",
   "nbconvert_exporter": "python",
   "pygments_lexer": "ipython3",
   "version": "3.7.2"
  }
 },
 "nbformat": 4,
 "nbformat_minor": 2
}

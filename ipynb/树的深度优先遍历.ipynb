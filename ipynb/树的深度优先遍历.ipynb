{
 "cells": [
  {
   "cell_type": "markdown",
   "metadata": {},
   "source": [
    "树的深度优先遍历——递归模式与基于栈的非递归模式"
   ]
  },
  {
   "cell_type": "markdown",
   "metadata": {},
   "source": [
    "对树结构的遍历可分为深度优先与广度优先两种方式，其中树结构的广度优先遍历又称为层序遍历。根据父节点相对于子节点的遍历先后顺序，深度优先又可分为前序遍历、中序遍历与后序遍历，本文展示如何使用递归模式与非递归模式对树进行深度优先遍历。"
   ]
  },
  {
   "cell_type": "markdown",
   "metadata": {},
   "source": [
    "为便于讲解，本文使用一般情形的树结构，即一个树节点可拥有0个至任意多个子节点。对拥有任意多子节点的树结构，其中序遍历结果无法准确定义，因此此处仅讲解前序遍历与后序遍历两种遍历顺序。"
   ]
  },
  {
   "cell_type": "markdown",
   "metadata": {},
   "source": [
    "本文，定义如下类型树节点，每一树节点对象包含两个字段，data为该节点数据域，children为子节点序列。"
   ]
  },
  {
   "cell_type": "code",
   "execution_count": 7,
   "metadata": {},
   "outputs": [
    {
     "data": {
      "text/plain": [
       "defined \u001b[32mclass\u001b[39m \u001b[36mTreeNode\u001b[39m"
      ]
     },
     "execution_count": 7,
     "metadata": {},
     "output_type": "execute_result"
    }
   ],
   "source": [
    "class TreeNode[T](val data: T, val children: Seq[TreeNode[T]])"
   ]
  },
  {
   "cell_type": "markdown",
   "metadata": {},
   "source": [
    "根据树节点类定义，创建下图上图所示各个树节点。"
   ]
  },
  {
   "cell_type": "code",
   "execution_count": 10,
   "metadata": {},
   "outputs": [
    {
     "data": {
      "text/plain": [
       "defined \u001b[32mclass\u001b[39m \u001b[36mTreeNode\u001b[39m\n",
       "\u001b[36mnode1\u001b[39m: \u001b[32mTreeNode\u001b[39m[\u001b[32mChar\u001b[39m] = ammonite.$sess.cmd9$Helper$TreeNode@47dfc1b3\n",
       "\u001b[36mnode2\u001b[39m: \u001b[32mTreeNode\u001b[39m[\u001b[32mChar\u001b[39m] = ammonite.$sess.cmd9$Helper$TreeNode@691bbbe0\n",
       "\u001b[36mnode3\u001b[39m: \u001b[32mTreeNode\u001b[39m[\u001b[32mChar\u001b[39m] = ammonite.$sess.cmd9$Helper$TreeNode@17490d43\n",
       "\u001b[36mnode4\u001b[39m: \u001b[32mTreeNode\u001b[39m[\u001b[32mChar\u001b[39m] = ammonite.$sess.cmd9$Helper$TreeNode@2ebc4dc2\n",
       "\u001b[36mnode5\u001b[39m: \u001b[32mTreeNode\u001b[39m[\u001b[32mChar\u001b[39m] = ammonite.$sess.cmd9$Helper$TreeNode@3f5c6b4a\n",
       "\u001b[36mnode6\u001b[39m: \u001b[32mTreeNode\u001b[39m[\u001b[32mChar\u001b[39m] = ammonite.$sess.cmd9$Helper$TreeNode@55ed64b4\n",
       "\u001b[36mnode7\u001b[39m: \u001b[32mTreeNode\u001b[39m[\u001b[32mChar\u001b[39m] = ammonite.$sess.cmd9$Helper$TreeNode@3c8b16d7\n",
       "\u001b[36mnode8\u001b[39m: \u001b[32mTreeNode\u001b[39m[\u001b[32mChar\u001b[39m] = ammonite.$sess.cmd9$Helper$TreeNode@1cd62361\n",
       "\u001b[36mnode9\u001b[39m: \u001b[32mTreeNode\u001b[39m[\u001b[32mChar\u001b[39m] = ammonite.$sess.cmd9$Helper$TreeNode@3cae644a\n",
       "\u001b[36mnode10\u001b[39m: \u001b[32mTreeNode\u001b[39m[\u001b[32mChar\u001b[39m] = ammonite.$sess.cmd9$Helper$TreeNode@3d955b5e\n",
       "\u001b[36mnode11\u001b[39m: \u001b[32mTreeNode\u001b[39m[\u001b[32mChar\u001b[39m] = ammonite.$sess.cmd9$Helper$TreeNode@6a6f6657\n",
       "\u001b[36mnode12\u001b[39m: \u001b[32mTreeNode\u001b[39m[\u001b[32mChar\u001b[39m] = ammonite.$sess.cmd9$Helper$TreeNode@350ca61b\n",
       "\u001b[36mnode13\u001b[39m: \u001b[32mTreeNode\u001b[39m[\u001b[32mChar\u001b[39m] = ammonite.$sess.cmd9$Helper$TreeNode@4ec34974"
      ]
     },
     "execution_count": 10,
     "metadata": {},
     "output_type": "execute_result"
    }
   ],
   "source": [
    "val node1 = new TreeNode[Char]('I', List[TreeNode[Char]]())\n",
    "val node2 = new TreeNode[Char]('J', List[TreeNode[Char]]())\n",
    "val node3 = new TreeNode[Char]('K', List[TreeNode[Char]]())\n",
    "val node4 = new TreeNode[Char]('L', List[TreeNode[Char]]())\n",
    "val node5 = new TreeNode[Char]('M', List[TreeNode[Char]]())\n",
    "val node6 = new TreeNode[Char]('D', List[TreeNode[Char]](node1))\n",
    "val node7 = new TreeNode[Char]('E', List[TreeNode[Char]](node2))\n",
    "val node8 = new TreeNode[Char]('F', List[TreeNode[Char]]())\n",
    "val node9= new TreeNode[Char]('G', List[TreeNode[Char]](node3, node4, node5))\n",
    "val node10 = new TreeNode[Char]('H', List[TreeNode[Char]]())\n",
    "val node11 = new TreeNode[Char]('B', List[TreeNode[Char]](node6, node7, node8))\n",
    "val node12 = new TreeNode[Char]('C', List[TreeNode[Char]](node9, node10))\n",
    "val node13 = new TreeNode[Char]('A', List[TreeNode[Char]](node11, node12))"
   ]
  },
  {
   "cell_type": "markdown",
   "metadata": {},
   "source": [
    "nodel13代表树的根节点。"
   ]
  },
  {
   "cell_type": "markdown",
   "metadata": {},
   "source": [
    "## 1. 递归模式\n",
    "### 1.1 前序遍历"
   ]
  },
  {
   "cell_type": "code",
   "execution_count": 15,
   "metadata": {},
   "outputs": [
    {
     "data": {
      "text/plain": [
       "defined \u001b[32mfunction\u001b[39m \u001b[36mpreOrder\u001b[39m\n",
       "\u001b[36mres\u001b[39m: \u001b[32mList\u001b[39m[\u001b[32mChar\u001b[39m] = \u001b[33mList\u001b[39m(\n",
       "  \u001b[32m'A'\u001b[39m,\n",
       "  \u001b[32m'B'\u001b[39m,\n",
       "  \u001b[32m'D'\u001b[39m,\n",
       "  \u001b[32m'I'\u001b[39m,\n",
       "  \u001b[32m'E'\u001b[39m,\n",
       "  \u001b[32m'J'\u001b[39m,\n",
       "  \u001b[32m'F'\u001b[39m,\n",
       "  \u001b[32m'C'\u001b[39m,\n",
       "  \u001b[32m'G'\u001b[39m,\n",
       "  \u001b[32m'K'\u001b[39m,\n",
       "  \u001b[32m'L'\u001b[39m,\n",
       "  \u001b[32m'M'\u001b[39m,\n",
       "  \u001b[32m'H'\u001b[39m\n",
       ")\n",
       "\u001b[36mres14_2\u001b[39m: \u001b[32mString\u001b[39m = \u001b[32m\"start:->A->B->D->I->E->J->F->C->G->K->L->M->H\"\u001b[39m"
      ]
     },
     "execution_count": 15,
     "metadata": {},
     "output_type": "execute_result"
    }
   ],
   "source": [
    "def preOrder[T, V](root:TreeNode[T], fun: T => V): List[V]= {\n",
    "  val res = fun(root.data)\n",
    "  res :: root.children.toList.flatMap(node => preOrder(node, fun))\n",
    "}\n",
    "\n",
    "// 前序遍历树节点\n",
    "val res = preOrder[Char, Char](node13, x => x)\n",
    "res.foldLeft(\"start:\")(_ + \"->\" + _.toString)"
   ]
  },
  {
   "cell_type": "markdown",
   "metadata": {},
   "source": [
    "### 1.2 后序遍历"
   ]
  },
  {
   "cell_type": "code",
   "execution_count": 16,
   "metadata": {},
   "outputs": [
    {
     "data": {
      "text/plain": [
       "defined \u001b[32mfunction\u001b[39m \u001b[36mpostOrder\u001b[39m\n",
       "\u001b[36mres\u001b[39m: \u001b[32mList\u001b[39m[\u001b[32mChar\u001b[39m] = \u001b[33mList\u001b[39m(\n",
       "  \u001b[32m'I'\u001b[39m,\n",
       "  \u001b[32m'D'\u001b[39m,\n",
       "  \u001b[32m'J'\u001b[39m,\n",
       "  \u001b[32m'E'\u001b[39m,\n",
       "  \u001b[32m'F'\u001b[39m,\n",
       "  \u001b[32m'B'\u001b[39m,\n",
       "  \u001b[32m'K'\u001b[39m,\n",
       "  \u001b[32m'L'\u001b[39m,\n",
       "  \u001b[32m'M'\u001b[39m,\n",
       "  \u001b[32m'G'\u001b[39m,\n",
       "  \u001b[32m'H'\u001b[39m,\n",
       "  \u001b[32m'C'\u001b[39m,\n",
       "  \u001b[32m'A'\u001b[39m\n",
       ")\n",
       "\u001b[36mres15_2\u001b[39m: \u001b[32mString\u001b[39m = \u001b[32m\"start:->I->D->J->E->F->B->K->L->M->G->H->C->A\"\u001b[39m"
      ]
     },
     "execution_count": 16,
     "metadata": {},
     "output_type": "execute_result"
    }
   ],
   "source": [
    "def postOrder[T, V](root:TreeNode[T], fun: T => V): List[V]= {\n",
    "  root.children.toList.flatMap(node => postOrder(node, fun)) :+ fun(root.data)\n",
    "}\n",
    "\n",
    "// 前序遍历树节点\n",
    "val res = postOrder[Char, Char](node13, x => x)\n",
    "res.foldLeft(\"start:\")(_ + \"->\" + _.toString)"
   ]
  },
  {
   "cell_type": "markdown",
   "metadata": {},
   "source": [
    "## 2. 基于栈的非递归模式\n",
    "### 2.1 前序遍历"
   ]
  },
  {
   "cell_type": "code",
   "execution_count": 17,
   "metadata": {},
   "outputs": [
    {
     "data": {
      "text/plain": [
       "\u001b[32mimport \u001b[39m\u001b[36mcollection.mutable\n",
       "\u001b[39m\n",
       "defined \u001b[32mfunction\u001b[39m \u001b[36mpreOrderStack\u001b[39m\n",
       "\u001b[36mres\u001b[39m: \u001b[32mList\u001b[39m[\u001b[32mChar\u001b[39m] = \u001b[33mList\u001b[39m(\n",
       "  \u001b[32m'A'\u001b[39m,\n",
       "  \u001b[32m'B'\u001b[39m,\n",
       "  \u001b[32m'D'\u001b[39m,\n",
       "  \u001b[32m'I'\u001b[39m,\n",
       "  \u001b[32m'E'\u001b[39m,\n",
       "  \u001b[32m'J'\u001b[39m,\n",
       "  \u001b[32m'F'\u001b[39m,\n",
       "  \u001b[32m'C'\u001b[39m,\n",
       "  \u001b[32m'G'\u001b[39m,\n",
       "  \u001b[32m'K'\u001b[39m,\n",
       "  \u001b[32m'L'\u001b[39m,\n",
       "  \u001b[32m'M'\u001b[39m,\n",
       "  \u001b[32m'H'\u001b[39m\n",
       ")\n",
       "\u001b[36mres16_3\u001b[39m: \u001b[32mString\u001b[39m = \u001b[32m\"start:->A->B->D->I->E->J->F->C->G->K->L->M->H\"\u001b[39m"
      ]
     },
     "execution_count": 17,
     "metadata": {},
     "output_type": "execute_result"
    }
   ],
   "source": [
    "import collection.mutable\n",
    "def preOrderStack[T, V](root:TreeNode[T], fun: T => V): List[V] = {\n",
    "  val stack = mutable.Stack[TreeNode[T]]()\n",
    "  val res = mutable.ListBuffer[V]()\n",
    "  stack.push(root)\n",
    "  while(stack.nonEmpty) {\n",
    "    val node = stack.pop()\n",
    "    res += fun(node.data)\n",
    "    node.children.reverse.map(stack.push)\n",
    "  }\n",
    "  res.toList\n",
    "}\n",
    "\n",
    "// 前序遍历树节点\n",
    "val res = preOrderStack[Char, Char](node13, x => x)\n",
    "res.foldLeft(\"start:\")(_ + \"->\" + _.toString)"
   ]
  },
  {
   "cell_type": "markdown",
   "metadata": {},
   "source": [
    "### 2.2 后序遍历"
   ]
  },
  {
   "cell_type": "code",
   "execution_count": 18,
   "metadata": {},
   "outputs": [
    {
     "data": {
      "text/plain": [
       "defined \u001b[32mfunction\u001b[39m \u001b[36mpostOrderStack\u001b[39m\n",
       "\u001b[36mres\u001b[39m: \u001b[32mList\u001b[39m[\u001b[32mChar\u001b[39m] = \u001b[33mList\u001b[39m(\n",
       "  \u001b[32m'I'\u001b[39m,\n",
       "  \u001b[32m'D'\u001b[39m,\n",
       "  \u001b[32m'J'\u001b[39m,\n",
       "  \u001b[32m'E'\u001b[39m,\n",
       "  \u001b[32m'F'\u001b[39m,\n",
       "  \u001b[32m'B'\u001b[39m,\n",
       "  \u001b[32m'K'\u001b[39m,\n",
       "  \u001b[32m'L'\u001b[39m,\n",
       "  \u001b[32m'M'\u001b[39m,\n",
       "  \u001b[32m'G'\u001b[39m,\n",
       "  \u001b[32m'H'\u001b[39m,\n",
       "  \u001b[32m'C'\u001b[39m,\n",
       "  \u001b[32m'A'\u001b[39m\n",
       ")\n",
       "\u001b[36mres17_2\u001b[39m: \u001b[32mString\u001b[39m = \u001b[32m\"start:->I->D->J->E->F->B->K->L->M->G->H->C->A\"\u001b[39m"
      ]
     },
     "execution_count": 18,
     "metadata": {},
     "output_type": "execute_result"
    }
   ],
   "source": [
    "def postOrderStack[T, V](root:TreeNode[T], fun: T => V): List[V] = {\n",
    "  val res = mutable.ListBuffer[V]()\n",
    "  val stack1 = mutable.Stack[TreeNode[T]]()\n",
    "  val stack2 = mutable.Stack[TreeNode[T]]()\n",
    "  stack1.push(root)\n",
    "  while(stack1.nonEmpty) {\n",
    "    val node = stack1.pop()\n",
    "    stack2.push(node)\n",
    "    node.children.map(stack1.push)\n",
    "  }\n",
    "\n",
    "  while(stack2.nonEmpty)\n",
    "    res += fun(stack2.pop().data)\n",
    "  res.toList\n",
    "}\n",
    "\n",
    "// 前序遍历树节点\n",
    "val res = postOrderStack[Char, Char](node13, x => x)\n",
    "res.foldLeft(\"start:\")(_ + \"->\" + _.toString)"
   ]
  },
  {
   "cell_type": "code",
   "execution_count": null,
   "metadata": {},
   "outputs": [],
   "source": []
  }
 ],
 "metadata": {
  "kernelspec": {
   "display_name": "Scala",
   "language": "scala",
   "name": "scala"
  },
  "language_info": {
   "codemirror_mode": "text/x-scala",
   "file_extension": ".scala",
   "mimetype": "text/x-scala",
   "name": "scala",
   "nbconvert_exporter": "script",
   "version": "2.12.8"
  }
 },
 "nbformat": 4,
 "nbformat_minor": 2
}

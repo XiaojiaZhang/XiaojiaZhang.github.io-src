{
 "cells": [
  {
   "cell_type": "markdown",
   "metadata": {},
   "source": [
    "在前一节中，我们讨论了使用树的一般节点对普通树的深度优先遍历。其中，树节点对象包括两个字段，分别是数据域和子节点集合。由于一般树的子节点可能拥有任意多个子节点，因此使用该方式定义树节点对象会使树结构的处理变的复杂，本节讨论如何使用二叉树结构表示一般树，在此基础上，讨论二叉树表示形式下，一般树的遍历方法。"
   ]
  },
  {
   "cell_type": "markdown",
   "metadata": {},
   "source": [
    "在二叉树结构中，每一个树结点最多包括两个子节点，称之为左节点和右节点。二叉树具有结构简单，易于处理的优点。为了使用二叉树结构表示一般树，我们定义如下形式树节点："
   ]
  },
  {
   "cell_type": "code",
   "execution_count": 1,
   "metadata": {},
   "outputs": [
    {
     "data": {
      "text/plain": [
       "defined \u001b[32mclass\u001b[39m \u001b[36mBinaryNode\u001b[39m"
      ]
     },
     "execution_count": 1,
     "metadata": {},
     "output_type": "execute_result"
    }
   ],
   "source": [
    "case class BinaryNode[T](data: T, leftNode: Option[BinaryNode[T]],\n",
    "                         rightNode: Option[BinaryNode[T]])"
   ]
  },
  {
   "cell_type": "markdown",
   "metadata": {},
   "source": [
    "每一树节点包括三个字段，分别为数据域，左节点和右节点，其中左右节点均可能为空。当使用二叉树表示一般树结构时，左节点执行当前节点的第一个子节点，右节点指向当前节点紧邻的第一个兄弟节点。因此，可以将普通的一般树转化为如下二叉树形式。"
   ]
  },
  {
   "cell_type": "markdown",
   "metadata": {},
   "source": [
    "建立该树所对应的二叉树节点："
   ]
  },
  {
   "cell_type": "code",
   "execution_count": 2,
   "metadata": {},
   "outputs": [
    {
     "data": {
      "text/plain": [
       "\u001b[36mnode1\u001b[39m: \u001b[32mBinaryNode\u001b[39m[\u001b[32mChar\u001b[39m] = \u001b[33mBinaryNode\u001b[39m(\u001b[32m'M'\u001b[39m, \u001b[32mNone\u001b[39m, \u001b[32mNone\u001b[39m)\n",
       "\u001b[36mnode2\u001b[39m: \u001b[32mBinaryNode\u001b[39m[\u001b[32mChar\u001b[39m] = \u001b[33mBinaryNode\u001b[39m(\n",
       "  \u001b[32m'L'\u001b[39m,\n",
       "  \u001b[32mNone\u001b[39m,\n",
       "  \u001b[33mSome\u001b[39m(\u001b[33mBinaryNode\u001b[39m(\u001b[32m'M'\u001b[39m, \u001b[32mNone\u001b[39m, \u001b[32mNone\u001b[39m))\n",
       ")\n",
       "\u001b[36mnode3\u001b[39m: \u001b[32mBinaryNode\u001b[39m[\u001b[32mChar\u001b[39m] = \u001b[33mBinaryNode\u001b[39m(\n",
       "  \u001b[32m'K'\u001b[39m,\n",
       "  \u001b[32mNone\u001b[39m,\n",
       "  \u001b[33mSome\u001b[39m(\u001b[33mBinaryNode\u001b[39m(\u001b[32m'L'\u001b[39m, \u001b[32mNone\u001b[39m, \u001b[33mSome\u001b[39m(\u001b[33mBinaryNode\u001b[39m(\u001b[32m'M'\u001b[39m, \u001b[32mNone\u001b[39m, \u001b[32mNone\u001b[39m))))\n",
       ")\n",
       "\u001b[36mnode4\u001b[39m: \u001b[32mBinaryNode\u001b[39m[\u001b[32mChar\u001b[39m] = \u001b[33mBinaryNode\u001b[39m(\u001b[32m'H'\u001b[39m, \u001b[32mNone\u001b[39m, \u001b[32mNone\u001b[39m)\n",
       "\u001b[36mnode5\u001b[39m: \u001b[32mBinaryNode\u001b[39m[\u001b[32mChar\u001b[39m] = \u001b[33mBinaryNode\u001b[39m(\n",
       "  \u001b[32m'G'\u001b[39m,\n",
       "  \u001b[33mSome\u001b[39m(\n",
       "    \u001b[33mBinaryNode\u001b[39m(\n",
       "      \u001b[32m'K'\u001b[39m,\n",
       "      \u001b[32mNone\u001b[39m,\n",
       "      \u001b[33mSome\u001b[39m(\u001b[33mBinaryNode\u001b[39m(\u001b[32m'L'\u001b[39m, \u001b[32mNone\u001b[39m, \u001b[33mSome\u001b[39m(\u001b[33mBinaryNode\u001b[39m(\u001b[32m'M'\u001b[39m, \u001b[32mNone\u001b[39m, \u001b[32mNone\u001b[39m))))\n",
       "    )\n",
       "  ),\n",
       "  \u001b[33mSome\u001b[39m(\u001b[33mBinaryNode\u001b[39m(\u001b[32m'H'\u001b[39m, \u001b[32mNone\u001b[39m, \u001b[32mNone\u001b[39m))\n",
       ")\n",
       "\u001b[36mnode6\u001b[39m: \u001b[32mBinaryNode\u001b[39m[\u001b[32mChar\u001b[39m] = \u001b[33mBinaryNode\u001b[39m(\n",
       "  \u001b[32m'C'\u001b[39m,\n",
       "  \u001b[33mSome\u001b[39m(\n",
       "    \u001b[33mBinaryNode\u001b[39m(\n",
       "      \u001b[32m'G'\u001b[39m,\n",
       "      \u001b[33mSome\u001b[39m(\n",
       "        \u001b[33mBinaryNode\u001b[39m(\n",
       "          \u001b[32m'K'\u001b[39m,\n",
       "          \u001b[32mNone\u001b[39m,\n",
       "          \u001b[33mSome\u001b[39m(\u001b[33mBinaryNode\u001b[39m(\u001b[32m'L'\u001b[39m, \u001b[32mNone\u001b[39m, \u001b[33mSome\u001b[39m(\u001b[33mBinaryNode\u001b[39m(\u001b[32m'M'\u001b[39m, \u001b[32mNone\u001b[39m, \u001b[32mNone\u001b[39m))))\n",
       "        )\n",
       "      ),\n",
       "      \u001b[33mSome\u001b[39m(\u001b[33mBinaryNode\u001b[39m(\u001b[32m'H'\u001b[39m, \u001b[32mNone\u001b[39m, \u001b[32mNone\u001b[39m))\n",
       "    )\n",
       "  ),\n",
       "  \u001b[32mNone\u001b[39m\n",
       ")\n",
       "\u001b[36mnode7\u001b[39m: \u001b[32mBinaryNode\u001b[39m[\u001b[32mChar\u001b[39m] = \u001b[33mBinaryNode\u001b[39m(\u001b[32m'J'\u001b[39m, \u001b[32mNone\u001b[39m, \u001b[32mNone\u001b[39m)\n",
       "\u001b[36mnode8\u001b[39m: \u001b[32mBinaryNode\u001b[39m[\u001b[32mChar\u001b[39m] = \u001b[33mBinaryNode\u001b[39m(\u001b[32m'I'\u001b[39m, \u001b[32mNone\u001b[39m, \u001b[32mNone\u001b[39m)\n",
       "\u001b[36mnode9\u001b[39m: \u001b[32mBinaryNode\u001b[39m[\u001b[32mChar\u001b[39m] = \u001b[33mBinaryNode\u001b[39m(\u001b[32m'F'\u001b[39m, \u001b[32mNone\u001b[39m, \u001b[32mNone\u001b[39m)\n",
       "\u001b[36mnode10\u001b[39m: \u001b[32mBinaryNode\u001b[39m[\u001b[32mChar\u001b[39m] = \u001b[33mBinaryNode\u001b[39m(\n",
       "  \u001b[32m'E'\u001b[39m,\n",
       "  \u001b[33mSome\u001b[39m(\u001b[33mBinaryNode\u001b[39m(\u001b[32m'J'\u001b[39m, \u001b[32mNone\u001b[39m, \u001b[32mNone\u001b[39m)),\n",
       "  \u001b[33mSome\u001b[39m(\u001b[33mBinaryNode\u001b[39m(\u001b[32m'F'\u001b[39m, \u001b[32mNone\u001b[39m, \u001b[32mNone\u001b[39m))\n",
       ")\n",
       "\u001b[36mnode11\u001b[39m: \u001b[32mBinaryNode\u001b[39m[\u001b[32mChar\u001b[39m] = \u001b[33mBinaryNode\u001b[39m(\n",
       "  \u001b[32m'D'\u001b[39m,\n",
       "  \u001b[33mSome\u001b[39m(\u001b[33mBinaryNode\u001b[39m(\u001b[32m'I'\u001b[39m, \u001b[32mNone\u001b[39m, \u001b[32mNone\u001b[39m)),\n",
       "  \u001b[33mSome\u001b[39m(\n",
       "    \u001b[33mBinaryNode\u001b[39m(\n",
       "      \u001b[32m'E'\u001b[39m,\n",
       "      \u001b[33mSome\u001b[39m(\u001b[33mBinaryNode\u001b[39m(\u001b[32m'J'\u001b[39m, \u001b[32mNone\u001b[39m, \u001b[32mNone\u001b[39m)),\n",
       "      \u001b[33mSome\u001b[39m(\u001b[33mBinaryNode\u001b[39m(\u001b[32m'F'\u001b[39m, \u001b[32mNone\u001b[39m, \u001b[32mNone\u001b[39m))\n",
       "    )\n",
       "  )\n",
       ")\n",
       "\u001b[36mnode12\u001b[39m: \u001b[32mBinaryNode\u001b[39m[\u001b[32mChar\u001b[39m] = \u001b[33mBinaryNode\u001b[39m(\n",
       "  \u001b[32m'B'\u001b[39m,\n",
       "  \u001b[33mSome\u001b[39m(\n",
       "    \u001b[33mBinaryNode\u001b[39m(\n",
       "      \u001b[32m'D'\u001b[39m,\n",
       "      \u001b[33mSome\u001b[39m(\u001b[33mBinaryNode\u001b[39m(\u001b[32m'I'\u001b[39m, \u001b[32mNone\u001b[39m, \u001b[32mNone\u001b[39m)),\n",
       "      \u001b[33mSome\u001b[39m(\n",
       "        \u001b[33mBinaryNode\u001b[39m(\n",
       "          \u001b[32m'E'\u001b[39m,\n",
       "          \u001b[33mSome\u001b[39m(\u001b[33mBinaryNode\u001b[39m(\u001b[32m'J'\u001b[39m, \u001b[32mNone\u001b[39m, \u001b[32mNone\u001b[39m)),\n",
       "          \u001b[33mSome\u001b[39m(\u001b[33mBinaryNode\u001b[39m(\u001b[32m'F'\u001b[39m, \u001b[32mNone\u001b[39m, \u001b[32mNone\u001b[39m))\n",
       "        )\n",
       "      )\n",
       "    )\n",
       "  ),\n",
       "  \u001b[33mSome\u001b[39m(\n",
       "    \u001b[33mBinaryNode\u001b[39m(\n",
       "      \u001b[32m'C'\u001b[39m,\n",
       "      \u001b[33mSome\u001b[39m(\n",
       "        \u001b[33mBinaryNode\u001b[39m(\n",
       "          \u001b[32m'G'\u001b[39m,\n",
       "          \u001b[33mSome\u001b[39m(\n",
       "            \u001b[33mBinaryNode\u001b[39m(\n",
       "              \u001b[32m'K'\u001b[39m,\n",
       "              \u001b[32mNone\u001b[39m,\n",
       "              \u001b[33mSome\u001b[39m(\u001b[33mBinaryNode\u001b[39m(\u001b[32m'L'\u001b[39m, \u001b[32mNone\u001b[39m, \u001b[33mSome\u001b[39m(\u001b[33mBinaryNode\u001b[39m(\u001b[32m'M'\u001b[39m, \u001b[32mNone\u001b[39m, \u001b[32mNone\u001b[39m))))\n",
       "            )\n",
       "          ),\n",
       "          \u001b[33mSome\u001b[39m(\u001b[33mBinaryNode\u001b[39m(\u001b[32m'H'\u001b[39m, \u001b[32mNone\u001b[39m, \u001b[32mNone\u001b[39m))\n",
       "        )\n",
       "      ),\n",
       "      \u001b[32mNone\u001b[39m\n",
       "    )\n",
       "  )\n",
       ")\n",
       "\u001b[36mnode13\u001b[39m: \u001b[32mBinaryNode\u001b[39m[\u001b[32mChar\u001b[39m] = \u001b[33mBinaryNode\u001b[39m(\n",
       "  \u001b[32m'A'\u001b[39m,\n",
       "  \u001b[33mSome\u001b[39m(\n",
       "    \u001b[33mBinaryNode\u001b[39m(\n",
       "      \u001b[32m'B'\u001b[39m,\n",
       "      \u001b[33mSome\u001b[39m(\n",
       "        \u001b[33mBinaryNode\u001b[39m(\n",
       "          \u001b[32m'D'\u001b[39m,\n",
       "          \u001b[33mSome\u001b[39m(\u001b[33mBinaryNode\u001b[39m(\u001b[32m'I'\u001b[39m, \u001b[32mNone\u001b[39m, \u001b[32mNone\u001b[39m)),\n",
       "          \u001b[33mSome\u001b[39m(\n",
       "            \u001b[33mBinaryNode\u001b[39m(\n",
       "              \u001b[32m'E'\u001b[39m,\n",
       "              \u001b[33mSome\u001b[39m(\u001b[33mBinaryNode\u001b[39m(\u001b[32m'J'\u001b[39m, \u001b[32mNone\u001b[39m, \u001b[32mNone\u001b[39m)),\n",
       "              \u001b[33mSome\u001b[39m(\u001b[33mBinaryNode\u001b[39m(\u001b[32m'F'\u001b[39m, \u001b[32mNone\u001b[39m, \u001b[32mNone\u001b[39m))\n",
       "            )\n",
       "          )\n",
       "        )\n",
       "      ),\n",
       "      \u001b[33mSome\u001b[39m(\n",
       "        \u001b[33mBinaryNode\u001b[39m(\n",
       "          \u001b[32m'C'\u001b[39m,\n",
       "          \u001b[33mSome\u001b[39m(\n",
       "            \u001b[33mBinaryNode\u001b[39m(\n",
       "              \u001b[32m'G'\u001b[39m,\n",
       "              \u001b[33mSome\u001b[39m(\n",
       "                \u001b[33mBinaryNode\u001b[39m(\n",
       "                  \u001b[32m'K'\u001b[39m,\n",
       "                  \u001b[32mNone\u001b[39m,\n",
       "                  \u001b[33mSome\u001b[39m(\u001b[33mBinaryNode\u001b[39m(\u001b[32m'L'\u001b[39m, \u001b[32mNone\u001b[39m, \u001b[33mSome\u001b[39m(\u001b[33mBinaryNode\u001b[39m(\u001b[32m'M'\u001b[39m, \u001b[32mNone\u001b[39m, \u001b[32mNone\u001b[39m))))\n",
       "                )\n",
       "              ),\n",
       "              \u001b[33mSome\u001b[39m(\u001b[33mBinaryNode\u001b[39m(\u001b[32m'H'\u001b[39m, \u001b[32mNone\u001b[39m, \u001b[32mNone\u001b[39m))\n",
       "            )\n",
       "          ),\n",
       "          \u001b[32mNone\u001b[39m\n",
       "        )\n",
       "      )\n",
       "    )\n",
       "  ),\n",
       "..."
      ]
     },
     "execution_count": 2,
     "metadata": {},
     "output_type": "execute_result"
    }
   ],
   "source": [
    "val node1 = BinaryNode[Char]('M', None, None)\n",
    "val node2 = BinaryNode[Char]('L', None, Option(node1))\n",
    "val node3 = BinaryNode[Char]('K', None, Option(node2))\n",
    "val node4 = BinaryNode[Char]('H', None, None)\n",
    "val node5 = BinaryNode[Char]('G', Option(node3), Option(node4))\n",
    "val node6 = BinaryNode[Char]('C', Option(node5), None)\n",
    "val node7 = BinaryNode[Char]('J', None, None)\n",
    "val node8 = BinaryNode[Char]('I', None, None)\n",
    "val node9 = BinaryNode[Char]('F', None, None)\n",
    "val node10 = BinaryNode[Char]('E', Option(node7), Option(node9))\n",
    "val node11 = BinaryNode[Char]('D', Option(node8), Option(node10))\n",
    "val node12 = BinaryNode[Char]('B', Option(node11), Option(node6))\n",
    "val node13 = BinaryNode[Char]('A', Option(node12), None)"
   ]
  },
  {
   "cell_type": "markdown",
   "metadata": {},
   "source": [
    "## 1. 深度优先遍历"
   ]
  },
  {
   "cell_type": "markdown",
   "metadata": {},
   "source": [
    "### 1.1 前序遍历\n",
    "\n",
    "一般树的前序遍历与其二叉树形式的前序遍历顺序一致，此处使用迭代方法对二叉树进行前序遍历："
   ]
  },
  {
   "cell_type": "code",
   "execution_count": 7,
   "metadata": {},
   "outputs": [
    {
     "data": {
      "text/plain": [
       "defined \u001b[32mfunction\u001b[39m \u001b[36mpreOrder\u001b[39m\n",
       "\u001b[36mres\u001b[39m: \u001b[32mList\u001b[39m[\u001b[32mChar\u001b[39m] = \u001b[33mList\u001b[39m(\n",
       "  \u001b[32m'A'\u001b[39m,\n",
       "  \u001b[32m'B'\u001b[39m,\n",
       "  \u001b[32m'D'\u001b[39m,\n",
       "  \u001b[32m'I'\u001b[39m,\n",
       "  \u001b[32m'E'\u001b[39m,\n",
       "  \u001b[32m'J'\u001b[39m,\n",
       "  \u001b[32m'F'\u001b[39m,\n",
       "  \u001b[32m'C'\u001b[39m,\n",
       "  \u001b[32m'G'\u001b[39m,\n",
       "  \u001b[32m'K'\u001b[39m,\n",
       "  \u001b[32m'L'\u001b[39m,\n",
       "  \u001b[32m'M'\u001b[39m,\n",
       "  \u001b[32m'H'\u001b[39m\n",
       ")\n",
       "\u001b[36mres6_2\u001b[39m: \u001b[32mString\u001b[39m = \u001b[32m\"start:->A->B->D->I->E->J->F->C->G->K->L->M->H\"\u001b[39m"
      ]
     },
     "execution_count": 7,
     "metadata": {},
     "output_type": "execute_result"
    }
   ],
   "source": [
    "def preOrder[T, V](node: Option[BinaryNode[T]], fun: T => V): List[V] = node match {\n",
    "  case None => Nil\n",
    "  case x =>\n",
    "    fun(x.get.data) :: List(x.get.leftNode, x.get.rightNode).flatMap(n => preOrder(n, fun))\n",
    "}\n",
    "\n",
    "val res = preOrder[Char, Char](Option(node13), x => x)\n",
    "res.foldLeft(\"start:\")(_ + \"->\" + _.toString)"
   ]
  },
  {
   "cell_type": "markdown",
   "metadata": {},
   "source": [
    "### 1.3 后序遍历\n",
    "\n",
    "一般树的后序遍历与其对应二叉树的中序遍历相一致，此处使用迭代方式对二叉树进行中序遍历："
   ]
  },
  {
   "cell_type": "code",
   "execution_count": 8,
   "metadata": {},
   "outputs": [
    {
     "data": {
      "text/plain": [
       "defined \u001b[32mfunction\u001b[39m \u001b[36mpostOrder\u001b[39m\n",
       "\u001b[36mres\u001b[39m: \u001b[32mList\u001b[39m[\u001b[32mChar\u001b[39m] = \u001b[33mList\u001b[39m(\n",
       "  \u001b[32m'I'\u001b[39m,\n",
       "  \u001b[32m'D'\u001b[39m,\n",
       "  \u001b[32m'J'\u001b[39m,\n",
       "  \u001b[32m'E'\u001b[39m,\n",
       "  \u001b[32m'F'\u001b[39m,\n",
       "  \u001b[32m'B'\u001b[39m,\n",
       "  \u001b[32m'K'\u001b[39m,\n",
       "  \u001b[32m'L'\u001b[39m,\n",
       "  \u001b[32m'M'\u001b[39m,\n",
       "  \u001b[32m'G'\u001b[39m,\n",
       "  \u001b[32m'H'\u001b[39m,\n",
       "  \u001b[32m'C'\u001b[39m,\n",
       "  \u001b[32m'A'\u001b[39m\n",
       ")\n",
       "\u001b[36mres7_2\u001b[39m: \u001b[32mString\u001b[39m = \u001b[32m\"start:->I->D->J->E->F->B->K->L->M->G->H->C->A\"\u001b[39m"
      ]
     },
     "execution_count": 8,
     "metadata": {},
     "output_type": "execute_result"
    }
   ],
   "source": [
    "def postOrder[T, V](node: Option[BinaryNode[T]], fun: T => V): List[V] = node match {\n",
    "  case None => Nil\n",
    "  case x =>\n",
    "    postOrder(x.get.leftNode, fun) ++ List(fun(x.get.data)) ++ postOrder(x.get.rightNode, fun)\n",
    "}\n",
    "\n",
    "val res = postOrder[Char, Char](Option(node13), x => x)\n",
    "res.foldLeft(\"start:\")(_ + \"->\" + _.toString)"
   ]
  },
  {
   "cell_type": "markdown",
   "metadata": {},
   "source": [
    "## 2. 广度优先遍历\n",
    "\n",
    "树的广度优先遍历也称之为层序遍历，使用队列结构可以很容易实现在二叉树上实现一般树的层层序遍历："
   ]
  },
  {
   "cell_type": "code",
   "execution_count": 9,
   "metadata": {},
   "outputs": [
    {
     "data": {
      "text/plain": [
       "\u001b[32mimport \u001b[39m\u001b[36mcollection.mutable\n",
       "\u001b[39m\n",
       "defined \u001b[32mfunction\u001b[39m \u001b[36mbreadthFirst\u001b[39m\n",
       "\u001b[36mres\u001b[39m: \u001b[32mList\u001b[39m[\u001b[32mChar\u001b[39m] = \u001b[33mList\u001b[39m(\n",
       "  \u001b[32m'A'\u001b[39m,\n",
       "  \u001b[32m'B'\u001b[39m,\n",
       "  \u001b[32m'C'\u001b[39m,\n",
       "  \u001b[32m'D'\u001b[39m,\n",
       "  \u001b[32m'E'\u001b[39m,\n",
       "  \u001b[32m'F'\u001b[39m,\n",
       "  \u001b[32m'G'\u001b[39m,\n",
       "  \u001b[32m'H'\u001b[39m,\n",
       "  \u001b[32m'I'\u001b[39m,\n",
       "  \u001b[32m'J'\u001b[39m,\n",
       "  \u001b[32m'K'\u001b[39m,\n",
       "  \u001b[32m'L'\u001b[39m,\n",
       "  \u001b[32m'M'\u001b[39m\n",
       ")\n",
       "\u001b[36mres8_3\u001b[39m: \u001b[32mString\u001b[39m = \u001b[32m\"start:->A->B->C->D->E->F->G->H->I->J->K->L->M\"\u001b[39m"
      ]
     },
     "execution_count": 9,
     "metadata": {},
     "output_type": "execute_result"
    }
   ],
   "source": [
    "import collection.mutable\n",
    "def breadthFirst[T, V](node: Option[BinaryNode[T]],\n",
    "                       fun: T => V): List[V] = {\n",
    "  val res = mutable.ListBuffer[V]()\n",
    "  val queue = mutable.Queue[Option[BinaryNode[T]]]()\n",
    "  if (node.nonEmpty){\n",
    "    queue.enqueue(node)\n",
    "    while(queue.nonEmpty) {\n",
    "      val node = queue.dequeue()\n",
    "      res += fun(node.get.data)\n",
    "      // 入队该节点的头节点，和头节点的所有兄弟节点\n",
    "        \n",
    "      if (node.get.leftNode.nonEmpty) {\n",
    "        var leftNode = node.get.leftNode\n",
    "        queue.enqueue(leftNode) // 入队头节点\n",
    "        while (leftNode.get.rightNode.nonEmpty) { // 入队兄弟节点\n",
    "          queue.enqueue(leftNode.get.rightNode)\n",
    "          leftNode = leftNode.get.rightNode\n",
    "        }\n",
    "      }\n",
    "    }\n",
    "    res.toList\n",
    "  }\n",
    "  else Nil\n",
    "}\n",
    "\n",
    "val res = breadthFirst[Char, Char](Option(node13), x => x)\n",
    "res.foldLeft(\"start:\")(_ + \"->\" + _.toString)"
   ]
  }
 ],
 "metadata": {
  "kernelspec": {
   "display_name": "Scala",
   "language": "scala",
   "name": "scala"
  },
  "language_info": {
   "codemirror_mode": "text/x-scala",
   "file_extension": ".scala",
   "mimetype": "text/x-scala",
   "name": "scala",
   "nbconvert_exporter": "script",
   "version": "2.12.8"
  }
 },
 "nbformat": 4,
 "nbformat_minor": 2
}

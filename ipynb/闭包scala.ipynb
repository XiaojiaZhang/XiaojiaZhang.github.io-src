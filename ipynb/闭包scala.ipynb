{
 "cells": [
  {
   "cell_type": "markdown",
   "metadata": {},
   "source": [
    "在函数定义中，函数定义体中可能包括自由变量与绑定变量两种变量类型。绑定变量是指通过函数参数显示传入的变量，自由变量则是指在函数引用范围类但不是函数参数的变量。在函数每次执行时，都需要重新捕获函数体中涉及的自由变量。因此，对包括自由变量的函数，即使每次使用相同的参数进行调用，由于可能捕获不同的自由变量，因此可能产生不同的调用结果。闭包这一术语即指函数调用时，捕获自由变量从而闭合函数的动作。"
   ]
  },
  {
   "cell_type": "markdown",
   "metadata": {},
   "source": [
    "## 1. 编译型语言中的闭包"
   ]
  },
  {
   "cell_type": "markdown",
   "metadata": {},
   "source": [
    "### 1.1 闭包基础"
   ]
  },
  {
   "cell_type": "markdown",
   "metadata": {},
   "source": [
    "对于编译型语言，函数定义中使用的自由变量必须已经被创建，且可以在函数体中进行访问， 否则编译无法通过。使用scala语言展示这一规则。"
   ]
  },
  {
   "cell_type": "code",
   "execution_count": 0,
   "metadata": {},
   "outputs": [
    {
     "name": "stderr",
     "output_type": "stream",
     "text": [
      "cmd0.sc:1: not found: value a\n",
      "def add(b: Int): Int = a + b\n",
      "                       ^Compilation Failed"
     ]
    },
    {
     "ename": "",
     "evalue": "",
     "output_type": "error",
     "traceback": [
      "Compilation Failed"
     ]
    }
   ],
   "source": [
    "def add(b: Int): Int = a + b"
   ]
  },
  {
   "cell_type": "code",
   "execution_count": 1,
   "metadata": {},
   "outputs": [
    {
     "data": {
      "text/plain": [
       "\u001b[36ma\u001b[39m: \u001b[32mInt\u001b[39m = \u001b[32m1\u001b[39m\n",
       "defined \u001b[32mfunction\u001b[39m \u001b[36madd\u001b[39m"
      ]
     },
     "execution_count": 1,
     "metadata": {},
     "output_type": "execute_result"
    }
   ],
   "source": [
    "val a = 1\n",
    "def add(b: Int): Int = a + b"
   ]
  },
  {
   "cell_type": "markdown",
   "metadata": {},
   "source": [
    "在第一个函数定义中，由于变量a尚未定义，因此编译错误，无法找到变量a。在第二个函数定义中，由于自由变量a可以在函数体中访问到，因此编译通过。"
   ]
  },
  {
   "cell_type": "markdown",
   "metadata": {},
   "source": [
    "关于闭包一个理解要点是函数会在每一次运行时捕获其所包含的自由变量，因此函数的实际执行效果不取决于其定义时自由变量的状态，而取决与其实际运行时自由变量的状态。在上一个例子中，add函数自由变量被定义为一个`val`不可变变量，因此对于相同的输入参数，函数调用结果均不变。但如果自由变量是`var`变量，或一个可变的`val`变量，则调用结果可能不同。"
   ]
  },
  {
   "cell_type": "code",
   "execution_count": 2,
   "metadata": {},
   "outputs": [
    {
     "data": {
      "text/plain": [
       "\u001b[36mfirst\u001b[39m: \u001b[32mString\u001b[39m = \u001b[32m\"bad\"\u001b[39m\n",
       "defined \u001b[32mfunction\u001b[39m \u001b[36mconcate\u001b[39m\n",
       "\u001b[36mres1_2\u001b[39m: \u001b[32mString\u001b[39m = \u001b[32m\"hello world\"\u001b[39m\n",
       "\u001b[36mres1_4\u001b[39m: \u001b[32mString\u001b[39m = \u001b[32m\"bad world\"\u001b[39m"
      ]
     },
     "execution_count": 2,
     "metadata": {},
     "output_type": "execute_result"
    }
   ],
   "source": [
    "var first = \"hello\"\n",
    "def concate(second: String): String = first + second\n",
    "\n",
    "concate(\" world\")\n",
    "first = \"bad\"\n",
    "concate(\" world\")"
   ]
  },
  {
   "cell_type": "markdown",
   "metadata": {},
   "source": [
    "由于自由变量second是`var`变量，因此当自由变量引用发生变化时，相同输入参数的函数调用返回不同的调用结果。"
   ]
  },
  {
   "cell_type": "code",
   "execution_count": 7,
   "metadata": {},
   "outputs": [
    {
     "data": {
      "text/plain": [
       "\u001b[32mimport \u001b[39m\u001b[36mcollection.mutable\n",
       "\u001b[39m\n",
       "\u001b[36mnum\u001b[39m: \u001b[32mmutable\u001b[39m.\u001b[32mBuffer\u001b[39m[\u001b[32mInt\u001b[39m] = \u001b[33mArrayBuffer\u001b[39m(\u001b[32m1\u001b[39m, \u001b[32m5\u001b[39m, \u001b[32m3\u001b[39m, \u001b[32m8\u001b[39m)\n",
       "defined \u001b[32mfunction\u001b[39m \u001b[36mexpand\u001b[39m\n",
       "\u001b[36mres6_3\u001b[39m: \u001b[32mInt\u001b[39m = \u001b[32m15\u001b[39m\n",
       "\u001b[36mres6_4\u001b[39m: \u001b[32mmutable\u001b[39m.\u001b[32mBuffer\u001b[39m[\u001b[32mInt\u001b[39m] = \u001b[33mArrayBuffer\u001b[39m(\u001b[32m1\u001b[39m, \u001b[32m5\u001b[39m, \u001b[32m3\u001b[39m, \u001b[32m8\u001b[39m)\n",
       "\u001b[36mres6_5\u001b[39m: \u001b[32mInt\u001b[39m = \u001b[32m24\u001b[39m"
      ]
     },
     "execution_count": 7,
     "metadata": {},
     "output_type": "execute_result"
    }
   ],
   "source": [
    "import collection.mutable\n",
    "val num = mutable.Buffer(1, 5, 3)\n",
    "def expand(x: Int): Int = num.max * x\n",
    "expand(3)\n",
    "num += (8)\n",
    "expand(3)"
   ]
  },
  {
   "cell_type": "markdown",
   "metadata": {},
   "source": [
    "在上例中，尽管自由变量num是`val`变量，但由于其是可变变量，因此当更改其元素内容时，相同输入参数的函数调用返回了不同的调用结果。"
   ]
  },
  {
   "cell_type": "markdown",
   "metadata": {},
   "source": [
    "### 1.2 嵌套函数中的闭包"
   ]
  },
  {
   "cell_type": "markdown",
   "metadata": {},
   "source": [
    "闭包最常见的应用便是嵌套函数定义。在一些情况下，对于主函数的功能需求，我们可能在函数体内定义一个辅助函数。基于闭包技术，辅助函数无需重复定义一个参数用于表示其需要引用主函数参数，而是可以直接在其函数体内引用主函数的参数。"
   ]
  },
  {
   "cell_type": "code",
   "execution_count": 20,
   "metadata": {},
   "outputs": [
    {
     "data": {
      "text/plain": [
       "defined \u001b[32mfunction\u001b[39m \u001b[36mouter\u001b[39m\n",
       "\u001b[36mres19_1\u001b[39m: \u001b[32mList\u001b[39m[\u001b[32mInt\u001b[39m] = \u001b[33mList\u001b[39m(\u001b[32m2\u001b[39m)"
      ]
     },
     "execution_count": 20,
     "metadata": {},
     "output_type": "execute_result"
    }
   ],
   "source": [
    "def outer(x: List[Int]) = {\n",
    "    def inner(f: Int => Boolean): List[Int] = x.filter(f)\n",
    "    inner(_ % 2 == 0)\n",
    "}\n",
    "\n",
    "outer(List(1, 2, 3))"
   ]
  },
  {
   "cell_type": "markdown",
   "metadata": {},
   "source": [
    "内层函数inner可直接引用外层函数的参数x作为自由变量，当内层函数调用时，闭包可捕获到外层函数的参数x。"
   ]
  }
 ],
 "metadata": {
  "kernelspec": {
   "display_name": "Scala",
   "language": "scala",
   "name": "scala"
  },
  "language_info": {
   "codemirror_mode": "text/x-scala",
   "file_extension": ".scala",
   "mimetype": "text/x-scala",
   "name": "scala",
   "nbconvert_exporter": "script",
   "version": "2.12.8"
  }
 },
 "nbformat": 4,
 "nbformat_minor": 2
}

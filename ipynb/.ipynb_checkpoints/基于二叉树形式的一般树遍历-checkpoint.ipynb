{
 "cells": [
  {
   "cell_type": "markdown",
   "metadata": {},
   "source": [
    "在前一节中，我们讨论了使用树的一般节点对普通树的深度优先遍历。其中，树节点对象包括两个字段，分别是数据域和子节点集合。由于一般树的子节点可能拥有任意多个子节点，因此使用该方式定义树节点对象会使树结构的处理变的复杂，本节讨论如何使用二叉树结构表示一般树，在此基础上，讨论二叉树表示形式下，一般树的遍历方法。"
   ]
  },
  {
   "cell_type": "markdown",
   "metadata": {},
   "source": [
    "在二叉树结构中，每一个树结点最多包括两个子节点，称之为左节点和右节点。二叉树具有结构简单，易于处理的优点。为了使用二叉树结构表示一般树，我们定义如下形式树节点："
   ]
  },
  {
   "cell_type": "code",
   "execution_count": 1,
   "metadata": {},
   "outputs": [
    {
     "data": {
      "text/plain": [
       "defined \u001b[32mclass\u001b[39m \u001b[36mBinaryNode\u001b[39m"
      ]
     },
     "execution_count": 1,
     "metadata": {},
     "output_type": "execute_result"
    }
   ],
   "source": [
    "case class BinaryNode[T](data: T, leftNode: Option[BinaryNode[T]],\n",
    "                         rightNode: Option[BinaryNode[T]])"
   ]
  },
  {
   "cell_type": "markdown",
   "metadata": {},
   "source": [
    "每一树节点包括三个字段，分别为数据域，左节点和右节点，其中左右节点均可能为空。当使用二叉树表示一般树结构时，左节点执行当前节点的第一个子节点，右节点指向当前节点紧邻的第一个兄弟节点。因此，可以使用"
   ]
  }
 ],
 "metadata": {
  "kernelspec": {
   "display_name": "Scala",
   "language": "scala",
   "name": "scala"
  },
  "language_info": {
   "codemirror_mode": "text/x-scala",
   "file_extension": ".scala",
   "mimetype": "text/x-scala",
   "name": "scala",
   "nbconvert_exporter": "script",
   "version": "2.12.8"
  }
 },
 "nbformat": 4,
 "nbformat_minor": 2
}

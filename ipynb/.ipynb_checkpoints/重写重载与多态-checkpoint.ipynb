{
 "cells": [
  {
   "cell_type": "markdown",
   "metadata": {},
   "source": [
    "## 重写、重载与多态"
   ]
  },
  {
   "cell_type": "markdown",
   "metadata": {},
   "source": [
    "在面向对象程序设计中，一个对象的可以拥有多个名称相同但签名不同的方法。这种设计方式称为方法的重载，其中方法的签名由参数个数和参数类型所决定。当使用继承方式由父类派生子类时，有可能会对父类中已经定义的方法进行重新实现，当子类对象调用方法时，子类中实现的版本将覆盖父类的版本。因此，方法的重载实现了同一名称方法的不同形式，方法重载则是在子类中覆盖了父类的方法。\n",
    "\n",
    "那何为多态呢？多态允许同一程序指令在不同的上下文中具有不同的功能。具体来说，对于直接或间接重写的方法名，对象在运行时确定将使用方法的哪个动作。因此，多态的基础就是类继承中的方法重写。将多态单独列出来主要是在重写与重载对比的基础之上，进一步分析多态下的细节。"
   ]
  },
  {
   "cell_type": "markdown",
   "metadata": {},
   "source": [
    "我们使用一个学生类用作后续分析，`Student`类包括姓名和学号两个字段，该类的scala版本定义如下："
   ]
  },
  {
   "cell_type": "code",
   "execution_count": 35,
   "metadata": {},
   "outputs": [
    {
     "data": {
      "text/plain": [
       "defined \u001b[32mclass\u001b[39m \u001b[36mStudent\u001b[39m"
      ]
     },
     "execution_count": 35,
     "metadata": {},
     "output_type": "execute_result"
    }
   ],
   "source": [
    "class Student (val schoolName: String, val name: String, val id: Long){\n",
    "    override def toString: String = \n",
    "        \"学校： \" + schoolName + \"\\n学号： \" + id + \"\\n姓名： \" + name\n",
    "}"
   ]
  },
  {
   "cell_type": "markdown",
   "metadata": {},
   "source": [
    "### 1. 方法重写"
   ]
  },
  {
   "cell_type": "markdown",
   "metadata": {},
   "source": [
    "在`Student`类定义中，我们重写了`toString`方法。注意当在类定义中不指明父类时，scala默认继承于`AnyRef`这一引用类型的基类。由于`AnyRef`类中已经定义了不带参数的`toString`方法，因此此处我们使用`override` 关键字表示我们重写了父类中的`toString`方法。当我们打印student对象时，`println`方法会输出该对象`toString`返回的字符串。可以看出，此时子类的方法覆盖了父类中的同名方法。"
   ]
  },
  {
   "cell_type": "code",
   "execution_count": 36,
   "metadata": {},
   "outputs": [
    {
     "name": "stdout",
     "output_type": "stream",
     "text": [
      "学校： 黄山小学\n",
      "学号： 16120973\n",
      "姓名： 李华\n"
     ]
    },
    {
     "data": {
      "text/plain": [
       "\u001b[36mstudent\u001b[39m: \u001b[32mStudent\u001b[39m = 学校： 黄山小学\n",
       "学号： 16120973\n",
       "姓名： 李华"
      ]
     },
     "execution_count": 36,
     "metadata": {},
     "output_type": "execute_result"
    }
   ],
   "source": [
    "val student = new Student(\"黄山小学\", \"李华\", 16120973)\n",
    "println(student)"
   ]
  },
  {
   "cell_type": "markdown",
   "metadata": {},
   "source": [
    "### 2. 方法重载"
   ]
  },
  {
   "cell_type": "markdown",
   "metadata": {},
   "source": [
    "方法的重写是类继承关系下的产物，而方法的重载则既可以存在与子类与父类之间，也可以仅针对一个类而言。面向对象程序设计中最常见的一种重载是构造方法的重载。假定我们需要提供一个实例化对象的便捷方法，当不提供学校名称时，学校名称字段使用黄山小学。我们可以对默认构造方法进行重载来提供一个便捷方法。"
   ]
  },
  {
   "cell_type": "code",
   "execution_count": 41,
   "metadata": {},
   "outputs": [
    {
     "name": "stdout",
     "output_type": "stream",
     "text": [
      "学校： 黄山小学\n",
      "学号： 18129834\n",
      "姓名： 刘远\n",
      "\n",
      "学校： 马场小学\n",
      "学号： 17239842\n",
      "姓名： 张岚\n"
     ]
    },
    {
     "data": {
      "text/plain": [
       "defined \u001b[32mclass\u001b[39m \u001b[36mStudent\u001b[39m\n",
       "\u001b[36mstudent1\u001b[39m: \u001b[32mStudent\u001b[39m = 学校： 黄山小学\n",
       "学号： 18129834\n",
       "姓名： 刘远\n",
       "\u001b[36mstudent2\u001b[39m: \u001b[32mStudent\u001b[39m = 学校： 马场小学\n",
       "学号： 17239842\n",
       "姓名： 张岚"
      ]
     },
     "execution_count": 41,
     "metadata": {},
     "output_type": "execute_result"
    }
   ],
   "source": [
    "class Student (val schoolName: String, val name: String, val id: Long){\n",
    "    def this(name: String, id: Long) = this(\"黄山小学\" , name, id)\n",
    "    \n",
    "    override def toString: String = \n",
    "        \"学校： \" + schoolName + \"\\n学号： \" + id + \"\\n姓名： \" + name\n",
    "}\n",
    "\n",
    "val student1 = new Student(\"刘远\", 18129834)\n",
    "val student2 = new Student(\"马场小学\", \"张岚\", 17239842)\n",
    "println(student1)\n",
    "println()\n",
    "println(student2)"
   ]
  },
  {
   "cell_type": "markdown",
   "metadata": {},
   "source": [
    "`def this(name: String, id: Long) = this(\"黄山小学\" , name, id)`语句重载了一个辅助构造方法，该方法接受两个参数，由于与主构造方法具有不同的方法签名，因此是对主构造方法的重载。在上例中，我们分别使用辅助构造方法和主构造方法实例化了一个对象，由于具有不同的方法签名，因此两个方法的调用不会引发冲突。"
   ]
  },
  {
   "cell_type": "markdown",
   "metadata": {},
   "source": [
    "### 3. 多态"
   ]
  },
  {
   "cell_type": "markdown",
   "metadata": {},
   "source": [
    "接下来讨论多态，前面提到，多态实际上是对方法重写的更为技术的一种叫法。为便于讨论，我们从`Student`类派生子类`CollegeStudent`，从`CollegeStudent`类派生`UnderGraduateStudent`，继承逻辑为大学生属于学生，而本科生则是大学生的一种。"
   ]
  },
  {
   "cell_type": "code",
   "execution_count": null,
   "metadata": {},
   "outputs": [],
   "source": []
  }
 ],
 "metadata": {
  "kernelspec": {
   "display_name": "Scala",
   "language": "scala",
   "name": "scala"
  },
  "language_info": {
   "codemirror_mode": "text/x-scala",
   "file_extension": ".scala",
   "mimetype": "text/x-scala",
   "name": "scala",
   "nbconvert_exporter": "script",
   "version": "2.12.8"
  }
 },
 "nbformat": 4,
 "nbformat_minor": 2
}
